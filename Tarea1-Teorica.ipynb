{
 "cells": [
  {
   "cell_type": "markdown",
   "metadata": {},
   "source": [
    "1. ¿Qué es un paradigma de programación?"
   ]
  },
  {
   "cell_type": "markdown",
   "metadata": {},
   "source": [
    "Un paradigma de programaicon es una filosofia o metodologia para abordar problemas que requieran instancias programadas. En este sentido, es un concepto general establecer paradigmas a la hora de programar. Un ejemplo de paradigma de programacion es la programcion orientada a objetos o la programacion basada en eventos (paradigma declarativo)."
   ]
  },
  {
   "cell_type": "markdown",
   "metadata": {},
   "source": [
    " 2. ¿En qué se basa la programación orientada a objetos?"
   ]
  },
  {
   "cell_type": "markdown",
   "metadata": {},
   "source": [
    "Quizás lo mas intuitivo es acercarse a la POO por el nombre. La programación orientada a objetos se centra en la creación de elementos con caracteristicads comunes, buscando no redefinir estas caracteristicas a cada instante qure se llamen o necesiten estos sino presenta una estrucutura comuna conocida y facil de modificar para cada caso especifico"
   ]
  },
  {
   "cell_type": "markdown",
   "metadata": {},
   "source": [
    "3. ¿Cuál es la diferencia entre recursividad e iteración, y cómo se relaciona esto con la notación big 𝑂?"
   ]
  },
  {
   "cell_type": "markdown",
   "metadata": {},
   "source": [
    "La clave para diferenciar ambos metodos es que en la revursividad la funcion se llama a si misma dentro su desarrollo estos casos son utiles en donde los ciclos sean por otro lado la iteracion apunta a  en cuanto a la relación con la notación big o cada ciclo iterativo (for, if, while) tendra su tiempo de operacion  corresponfiente segun el largo o extension de la ioteracion (pensando en vectores o listas) mientras que para la recursividad es mas complejo establecer una relacion preliminar ya que depende de la complejidad de la tarea que resuelva dicha funcion. cabe destacar la relacion de \"contención\" que puede darse, ya que una función recursiva puede tener ciclos iterativos y los ciclos iterativos pueden contener llamadas recursivas de la función todo esto influye en la informacionn que entregue la notacion big o."
   ]
  },
  {
   "cell_type": "markdown",
   "metadata": {},
   "source": [
    "4. Explicar la diferencia de rendimiento entre 𝑂(1) y 𝑂(𝑛)"
   ]
  },
  {
   "cell_type": "markdown",
   "metadata": {},
   "source": [
    "Suponiendo que n es el número de elementos al que se quiere estudiar el tiempo de desarrollo de una iteracion, O(1) indica un tiempo de desarrollo constante, buscar un elemento en una lista por ejemplo, y O(n) indica que el tiempo depende directamente con la cantidad de elementos, aumentando o disminuyendo el tiempo de busqueda en base a la extemsion de la estructura recorrida"
   ]
  },
  {
   "cell_type": "markdown",
   "metadata": {},
   "source": [
    "5. ¿Cómo se calcula el orden en un programa que funciona por etapas?"
   ]
  },
  {
   "cell_type": "markdown",
   "metadata": {},
   "source": [
    "Se calcula el tiempo de cada etapa y se suman las complejidades secuencias mientras se multiplican las complejidades anidadas. Luego de esto se observa la etapa que mas demore (o mas dominante) y ese orden del algoritmos."
   ]
  },
  {
   "cell_type": "markdown",
   "metadata": {},
   "source": [
    "6. ¿Cómo se puede determinar la complejidad temporal de un algoritmo recursivo?"
   ]
  },
  {
   "cell_type": "markdown",
   "metadata": {},
   "source": [
    "Una medida apropiada para medir la complejidad de los algoritmos recursivos es la ecuación de recurrencia, dentro de esta rama se encuentra el teorema maestro que entrega una cota superior para esta métrica."
   ]
  }
 ],
 "metadata": {
  "kernelspec": {
   "display_name": "Python 3",
   "language": "python",
   "name": "python3"
  },
  "language_info": {
   "name": "python",
   "version": "3.9.6"
  }
 },
 "nbformat": 4,
 "nbformat_minor": 2
}
